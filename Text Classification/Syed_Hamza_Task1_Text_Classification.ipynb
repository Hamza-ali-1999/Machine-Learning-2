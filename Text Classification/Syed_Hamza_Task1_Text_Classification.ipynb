{
 "cells": [
  {
   "cell_type": "markdown",
   "metadata": {},
   "source": [
    "# Task 1: Text Classification\n",
    "## Syed Hamza Ali"
   ]
  },
  {
   "cell_type": "markdown",
   "metadata": {},
   "source": [
    "### Import all the necessary libraries"
   ]
  },
  {
   "cell_type": "code",
   "execution_count": 1,
   "metadata": {},
   "outputs": [],
   "source": [
    "from sklearn.datasets import fetch_20newsgroups\n",
    "from sklearn.model_selection import train_test_split\n",
    "from gensim.utils import simple_preprocess\n",
    "from sklearn.feature_extraction.text import TfidfVectorizer\n",
    "\n",
    "from sklearn.feature_extraction.text import CountVectorizer\n",
    "\n",
    "from sklearn.linear_model import LogisticRegression\n",
    "from sklearn.naive_bayes import MultinomialNB\n",
    "from sklearn.svm import SVC\n",
    "from sklearn.tree import DecisionTreeClassifier\n",
    "from sklearn.pipeline import Pipeline\n",
    "from sklearn.metrics import accuracy_score\n",
    "from gensim.models import Word2Vec\n",
    "from sklearn.model_selection import GridSearchCV\n",
    "from gensim.models import Doc2Vec\n",
    "from gensim.models.doc2vec import TaggedDocument\n",
    "import numpy as np"
   ]
  },
  {
   "cell_type": "markdown",
   "metadata": {},
   "source": [
    "### Tried to use all of the categories but it took too long so, Just ended up using a couple of categories"
   ]
  },
  {
   "cell_type": "markdown",
   "metadata": {},
   "source": [
    "### Fetch Data"
   ]
  },
  {
   "cell_type": "code",
   "execution_count": 2,
   "metadata": {},
   "outputs": [
    {
     "data": {
      "text/plain": [
       "['alt.atheism',\n",
       " 'comp.graphics',\n",
       " 'comp.os.ms-windows.misc',\n",
       " 'comp.sys.ibm.pc.hardware',\n",
       " 'comp.sys.mac.hardware',\n",
       " 'comp.windows.x',\n",
       " 'misc.forsale',\n",
       " 'rec.autos',\n",
       " 'rec.motorcycles',\n",
       " 'rec.sport.baseball',\n",
       " 'rec.sport.hockey',\n",
       " 'sci.crypt',\n",
       " 'sci.electronics',\n",
       " 'sci.med',\n",
       " 'sci.space',\n",
       " 'soc.religion.christian',\n",
       " 'talk.politics.guns',\n",
       " 'talk.politics.mideast',\n",
       " 'talk.politics.misc',\n",
       " 'talk.religion.misc']"
      ]
     },
     "execution_count": 2,
     "metadata": {},
     "output_type": "execute_result"
    }
   ],
   "source": [
    "data = fetch_20newsgroups(subset='all')\n",
    "data.target_names"
   ]
  },
  {
   "cell_type": "code",
   "execution_count": 3,
   "metadata": {},
   "outputs": [],
   "source": [
    "# Fetch data\n",
    "categories = ['alt.atheism', 'talk.religion.misc', 'rec.motorcycles', 'sci.med']\n",
    "data = fetch_20newsgroups(subset='train', categories=categories)\n",
    "\n",
    "# Preprocess and tokenize text data\n",
    "tokenized_data = [simple_preprocess(text) for text in data.data]\n",
    "\n",
    "# Split data into train and test sets\n",
    "X_train, X_test, y_train, y_test = train_test_split(tokenized_data, data.target, test_size=0.2, random_state=2)"
   ]
  },
  {
   "cell_type": "markdown",
   "metadata": {},
   "source": [
    "## Word2Vec Model"
   ]
  },
  {
   "cell_type": "code",
   "execution_count": 4,
   "metadata": {},
   "outputs": [],
   "source": [
    "# Train Word2Vec model\n",
    "word2vec_model = Word2Vec(sentences=X_train, vector_size=100, window=5, min_count=1, workers=4)\n",
    "\n",
    "# Function to transform documents to Word2Vec vectors\n",
    "def document_vector(model, doc):\n",
    "    \"\"\"\n",
    "    Transform a list of words into a feature vector by averaging the word vectors.\n",
    "    \"\"\"\n",
    "    # Initialize an array for storing the vectors\n",
    "    doc_vector = np.zeros((model.vector_size,), dtype=\"float32\")\n",
    "    num_words = 0\n",
    "    # Iterate over each word in the document\n",
    "    for word in doc:\n",
    "        if word in model.wv:\n",
    "            doc_vector += model.wv[word]\n",
    "            num_words += 1\n",
    "    # Average the vectors to get the document vector\n",
    "    if num_words != 0:\n",
    "        doc_vector /= num_words\n",
    "    return doc_vector"
   ]
  },
  {
   "cell_type": "code",
   "execution_count": 5,
   "metadata": {},
   "outputs": [],
   "source": [
    "# Transform train and test data into numerical vectors using Word2Vec model\n",
    "X_train_w2v = np.array([document_vector(word2vec_model, doc) for doc in X_train])\n",
    "X_test_w2v = np.array([document_vector(word2vec_model, doc) for doc in X_test])"
   ]
  },
  {
   "cell_type": "code",
   "execution_count": 6,
   "metadata": {},
   "outputs": [],
   "source": [
    "# Algorithms for Word2Vec model\n",
    "# NOTE: The MNB algorithm had issues with the Word2Vec and Doc2Vec embedding so it was removed\n",
    "algorithms = {\n",
    "    'Logistic Regression': LogisticRegression(max_iter=1000),\n",
    "    'Support Vector Machines': SVC(),\n",
    "    'Decision Trees': DecisionTreeClassifier()\n",
    "}"
   ]
  },
  {
   "cell_type": "markdown",
   "metadata": {},
   "source": [
    "### Iterating Through each Algorithm with Word2Vec"
   ]
  },
  {
   "cell_type": "code",
   "execution_count": 7,
   "metadata": {},
   "outputs": [],
   "source": [
    "# Initialize results dictionary\n",
    "results = {}\n",
    "\n",
    "# Fit and evaluate each algorithm on Word2Vec embeddings\n",
    "for algorithm_name, algorithm in algorithms.items():\n",
    "    # Train the algorithm\n",
    "    algorithm.fit(X_train_w2v, y_train)\n",
    "    # Predict using the trained model\n",
    "    y_pred_w2v = algorithm.predict(X_test_w2v)\n",
    "    # Calculate accuracy\n",
    "    accuracy_w2v = accuracy_score(y_test, y_pred_w2v)\n",
    "    # Store results\n",
    "    results[(algorithm_name, 'Word2Vec')] = accuracy_w2v"
   ]
  },
  {
   "cell_type": "markdown",
   "metadata": {},
   "source": [
    "## Doc2Vec"
   ]
  },
  {
   "cell_type": "code",
   "execution_count": 8,
   "metadata": {},
   "outputs": [],
   "source": [
    "# Split data into train and test sets\n",
    "X_train, X_test, y_train, y_test = train_test_split(tokenized_data, data.target, test_size=0.2, random_state=42)\n",
    "\n",
    "# Tag the documents with unique identifiers\n",
    "tagged_train_docs = [TaggedDocument(words=text, tags=[str(i)]) for i, text in enumerate(X_train)]\n",
    "tagged_test_docs = [TaggedDocument(words=text, tags=[str(i)]) for i, text in enumerate(X_test)]"
   ]
  },
  {
   "cell_type": "code",
   "execution_count": 9,
   "metadata": {},
   "outputs": [],
   "source": [
    "# Train Doc2Vec model\n",
    "doc2vec_model = Doc2Vec(vector_size=100, window=5, min_count=1, workers=4, epochs=20)\n",
    "doc2vec_model.build_vocab(tagged_train_docs)\n",
    "doc2vec_model.train(tagged_train_docs, total_examples=doc2vec_model.corpus_count, epochs=doc2vec_model.epochs)"
   ]
  },
  {
   "cell_type": "code",
   "execution_count": 10,
   "metadata": {},
   "outputs": [],
   "source": [
    "# Infer document vectors for training and test data\n",
    "X_train_d2v = np.array([doc2vec_model.infer_vector(doc.words) for doc in tagged_train_docs])\n",
    "X_test_d2v = np.array([doc2vec_model.infer_vector(doc.words) for doc in tagged_test_docs])"
   ]
  },
  {
   "cell_type": "code",
   "execution_count": 11,
   "metadata": {},
   "outputs": [],
   "source": [
    "# Define algorithms\n",
    "algorithms = {\n",
    "    'Logistic Regression': LogisticRegression(max_iter=1000),\n",
    "    'Support Vector Machines': SVC(),\n",
    "    'Decision Trees': DecisionTreeClassifier()\n",
    "}"
   ]
  },
  {
   "cell_type": "code",
   "execution_count": 12,
   "metadata": {},
   "outputs": [],
   "source": [
    "# Fit and evaluate each algorithm on Doc2Vec embeddings\n",
    "for algorithm_name, algorithm in algorithms.items():\n",
    "    # Train the algorithm\n",
    "    algorithm.fit(X_train_d2v, y_train)\n",
    "    # Predict using the trained model\n",
    "    y_pred = algorithm.predict(X_test_d2v)\n",
    "    # Calculate accuracy\n",
    "    accuracy = accuracy_score(y_test, y_pred)\n",
    "    # Store results\n",
    "    results[(algorithm_name, 'Doc2Vec')] = accuracy"
   ]
  },
  {
   "cell_type": "markdown",
   "metadata": {},
   "source": [
    "## Count Vectorizer"
   ]
  },
  {
   "cell_type": "markdown",
   "metadata": {},
   "source": [
    "### Count Vectorizer Train and Test Data"
   ]
  },
  {
   "cell_type": "code",
   "execution_count": 13,
   "metadata": {},
   "outputs": [],
   "source": [
    "data = fetch_20newsgroups(subset='train', categories=categories)\n",
    "\n",
    "# Split data into train and test sets\n",
    "X_train, X_test, y_train, y_test = train_test_split(data.data, data.target, test_size=0.2, random_state=2)\n",
    "\n",
    "# Initialize and fit CountVectorizer\n",
    "count_vectorizer = CountVectorizer()\n",
    "X_train_counts = count_vectorizer.fit_transform(X_train)\n",
    "X_test_counts = count_vectorizer.transform(X_test)"
   ]
  },
  {
   "cell_type": "code",
   "execution_count": 14,
   "metadata": {},
   "outputs": [],
   "source": [
    "# Initialize algorithms\n",
    "algorithms = {\n",
    "    'Multinomial Naïve Bayes': MultinomialNB(),\n",
    "    'Logistic Regression': LogisticRegression(max_iter=1000),\n",
    "    'Support Vector Machines': SVC(),\n",
    "    'Decision Trees': DecisionTreeClassifier()\n",
    "}"
   ]
  },
  {
   "cell_type": "code",
   "execution_count": 15,
   "metadata": {},
   "outputs": [],
   "source": [
    "# Fit and evaluate each algorithm on count vectors\n",
    "for algorithm_name, algorithm in algorithms.items():\n",
    "    # Train the algorithm\n",
    "    algorithm.fit(X_train_counts, y_train)\n",
    "    # Predict using the trained model\n",
    "    y_pred_counts = algorithm.predict(X_test_counts)\n",
    "    # Calculate accuracy\n",
    "    accuracy_counts = accuracy_score(y_test, y_pred_counts)\n",
    "    # Store results\n",
    "    results[(algorithm_name, 'CountVectorizer')] = accuracy_counts"
   ]
  },
  {
   "cell_type": "markdown",
   "metadata": {},
   "source": [
    "### Writing the results to a text file in tabular format"
   ]
  },
  {
   "cell_type": "code",
   "execution_count": 16,
   "metadata": {},
   "outputs": [],
   "source": [
    "with open(\"Syed_Hamza_Task1_Text_Classification.txt\", \"w\") as file:\n",
    "    file.write(\"Algorithm\\tFeature Extractor\\tAccuracy\\n\")\n",
    "    for configuration, accuracy in results.items():\n",
    "        file.write(f\"{configuration[0]}\\t{configuration[1]}\\t{accuracy}\\n\")"
   ]
  },
  {
   "cell_type": "markdown",
   "metadata": {},
   "source": [
    "### Best Configuration"
   ]
  },
  {
   "cell_type": "code",
   "execution_count": 17,
   "metadata": {},
   "outputs": [
    {
     "name": "stdout",
     "output_type": "stream",
     "text": [
      "Best performing configuration:\n",
      "Algorithm: Multinomial Naïve Bayes\n",
      "Feature Extractor: CountVectorizer\n",
      "Accuracy: 0.9707317073170731\n"
     ]
    }
   ],
   "source": [
    "# Choose the best algorithm-feature extractor configuration based on accuracy\n",
    "best_configuration = max(results, key=results.get)\n",
    "best_accuracy = results[best_configuration]\n",
    "\n",
    "# Print best configuration\n",
    "print(\"Best performing configuration:\")\n",
    "print(\"Algorithm:\", best_configuration[0])\n",
    "print(\"Feature Extractor:\", best_configuration[1])\n",
    "print(\"Accuracy:\", best_accuracy)"
   ]
  }
 ],
 "metadata": {
  "kernelspec": {
   "display_name": "Python 3",
   "language": "python",
   "name": "python3"
  },
  "language_info": {
   "codemirror_mode": {
    "name": "ipython",
    "version": 3
   },
   "file_extension": ".py",
   "mimetype": "text/x-python",
   "name": "python",
   "nbconvert_exporter": "python",
   "pygments_lexer": "ipython3",
   "version": "3.11.5"
  }
 },
 "nbformat": 4,
 "nbformat_minor": 2
}

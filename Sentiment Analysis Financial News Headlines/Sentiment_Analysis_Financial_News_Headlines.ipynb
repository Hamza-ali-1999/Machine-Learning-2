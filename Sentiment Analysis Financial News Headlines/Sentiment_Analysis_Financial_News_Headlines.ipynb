{
  "cells": [
    {
      "cell_type": "markdown",
      "metadata": {},
      "source": [
        "# Syed Hamza Ali"
      ]
    },
    {
      "cell_type": "markdown",
      "metadata": {
        "id": "4HYVz3Z6Mu90"
      },
      "source": [
        "# Sentiment Analysis of Financial News Headlines\n",
        "## This task applies NLP techniques to classify a news headline containing financial information into either one of the sentiments (Positive, Negative or Neutral)"
      ]
    },
    {
      "cell_type": "markdown",
      "metadata": {
        "id": "0PHgkZ9VMu91"
      },
      "source": [
        "### Dataset:\n",
        "https://raw.githubusercontent.com/subashgandyer/datasets/main/financial_news_headlines_sentiment.csv"
      ]
    },
    {
      "cell_type": "markdown",
      "metadata": {
        "id": "ZSyCi7iwM3-g"
      },
      "source": [
        "## Imports"
      ]
    },
    {
      "cell_type": "code",
      "execution_count": 66,
      "metadata": {
        "id": "dUp0fsJyM80y"
      },
      "outputs": [],
      "source": [
        "import pandas as pd\n",
        "import numpy as np\n",
        "from matplotlib import pyplot as plt\n",
        "from imblearn.over_sampling import SMOTE\n",
        "from sklearn.feature_extraction.text import CountVectorizer, TfidfVectorizer\n",
        "from sklearn.model_selection import train_test_split\n",
        "from sklearn.naive_bayes import MultinomialNB\n",
        "from sklearn.metrics import confusion_matrix, accuracy_score, classification_report\n",
        "from sklearn.linear_model import LogisticRegression\n",
        "import seaborn as sns"
      ]
    },
    {
      "cell_type": "markdown",
      "metadata": {
        "id": "kNcW-sv8Mu92"
      },
      "source": [
        "## 1. Download the dataset"
      ]
    },
    {
      "cell_type": "code",
      "execution_count": 67,
      "metadata": {
        "colab": {
          "base_uri": "https://localhost:8080/"
        },
        "id": "YKNtLF-1Mu92",
        "outputId": "66c96105-18c4-45c5-a0b7-1557ca9bf9ab"
      },
      "outputs": [
        {
          "name": "stdout",
          "output_type": "stream",
          "text": [
            "Dataset downloaded successfully.\n"
          ]
        }
      ],
      "source": [
        "url = 'https://raw.githubusercontent.com/subashgandyer/datasets/main/financial_news_headlines_sentiment.csv'\n",
        "\n",
        "# Read the CSV file from the URL into a DataFrame\n",
        "try:\n",
        "    df = pd.read_csv(url, encoding='latin-1')\n",
        "    print(\"Dataset downloaded successfully.\")\n",
        "except Exception as e:\n",
        "    print(\"Failed to download the dataset:\", e)"
      ]
    },
    {
      "cell_type": "markdown",
      "metadata": {
        "id": "nocms0i0Mu92"
      },
      "source": [
        "## 2. Load the dataset "
      ]
    },
    {
      "cell_type": "code",
      "execution_count": 68,
      "metadata": {
        "colab": {
          "base_uri": "https://localhost:8080/"
        },
        "id": "SALgSFM5Mu92",
        "outputId": "0d787af8-b893-4a51-a19a-3ec633a03c25"
      },
      "outputs": [
        {
          "name": "stdout",
          "output_type": "stream",
          "text": [
            "Dataset loaded successfully.\n",
            "  sentiment                                           headline\n",
            "0   neutral  According to Gran , the company has no plans t...\n",
            "1   neutral  Technopolis plans to develop in stages an area...\n",
            "2  negative  The international electronic industry company ...\n",
            "3  positive  With the new production plant the company woul...\n",
            "4  positive  According to the company 's updated strategy f...\n",
            "<class 'pandas.core.frame.DataFrame'>\n",
            "RangeIndex: 4846 entries, 0 to 4845\n",
            "Data columns (total 2 columns):\n",
            " #   Column     Non-Null Count  Dtype \n",
            "---  ------     --------------  ----- \n",
            " 0   sentiment  4846 non-null   object\n",
            " 1   headline   4846 non-null   object\n",
            "dtypes: object(2)\n",
            "memory usage: 75.8+ KB\n",
            "None\n"
          ]
        }
      ],
      "source": [
        "# Removing first column (id)\n",
        "h_cols = ['sentiment', 'headline']\n",
        "\n",
        "# Read the CSV file from the URL into a DataFrame\n",
        "try:\n",
        "    news_headline = pd.read_csv(url, sep=',', names=h_cols, encoding='latin-1')\n",
        "    print(\"Dataset loaded successfully.\")\n",
        "\n",
        "    # Display the first few rows of the DataFrame\n",
        "    print(news_headline.head())\n",
        "\n",
        "    # Get information about the DataFrame\n",
        "    print(news_headline.info())\n",
        "\n",
        "    # Perform any further analysis or manipulation with the DataFrame as needed\n",
        "\n",
        "except Exception as e:\n",
        "    print(\"Failed to load the dataset:\", e)"
      ]
    },
    {
      "cell_type": "markdown",
      "metadata": {
        "id": "Npp-_aIVMu92"
      },
      "source": [
        "## 3. Explore the dataset"
      ]
    },
    {
      "cell_type": "code",
      "execution_count": 69,
      "metadata": {
        "colab": {
          "base_uri": "https://localhost:8080/"
        },
        "id": "H_iOq_2vMu93",
        "outputId": "66748d49-3d5a-45ec-87e9-a6abd5e40447"
      },
      "outputs": [
        {
          "name": "stdout",
          "output_type": "stream",
          "text": [
            "Shape of the DataFrame:\n",
            "(4846, 2)\n",
            "\n",
            "First few rows of the DataFrame:\n",
            "  sentiment                                           headline\n",
            "0   neutral  According to Gran , the company has no plans t...\n",
            "1   neutral  Technopolis plans to develop in stages an area...\n",
            "2  negative  The international electronic industry company ...\n",
            "3  positive  With the new production plant the company woul...\n",
            "4  positive  According to the company 's updated strategy f...\n",
            "\n",
            "Information about the DataFrame:\n",
            "<class 'pandas.core.frame.DataFrame'>\n",
            "RangeIndex: 4846 entries, 0 to 4845\n",
            "Data columns (total 2 columns):\n",
            " #   Column     Non-Null Count  Dtype \n",
            "---  ------     --------------  ----- \n",
            " 0   sentiment  4846 non-null   object\n",
            " 1   headline   4846 non-null   object\n",
            "dtypes: object(2)\n",
            "memory usage: 75.8+ KB\n",
            "None\n",
            "\n",
            "Missing values in the DataFrame:\n",
            "sentiment    0\n",
            "headline     0\n",
            "dtype: int64\n",
            "\n",
            "Unique values and value counts for 'sentiment' column:\n",
            "neutral     2879\n",
            "positive    1363\n",
            "negative     604\n",
            "Name: sentiment, dtype: int64\n"
          ]
        }
      ],
      "source": [
        "# 1. Displaying the shape of the DataFrame\n",
        "print(\"Shape of the DataFrame:\")\n",
        "print(news_headline.shape)\n",
        "\n",
        "# 2. Displaying the first few rows of the DataFrame\n",
        "print(\"\\nFirst few rows of the DataFrame:\")\n",
        "print(news_headline.head())\n",
        "\n",
        "# 3. Getting information about the DataFrame\n",
        "print(\"\\nInformation about the DataFrame:\")\n",
        "print(news_headline.info())\n",
        "\n",
        "# 4. Checking for missing values\n",
        "print(\"\\nMissing values in the DataFrame:\")\n",
        "print(news_headline.isnull().sum())\n",
        "\n",
        "# 5. Checking unique values and value counts for categorical variables\n",
        "print(\"\\nUnique values and value counts for 'sentiment' column:\")\n",
        "print(news_headline['sentiment'].value_counts())"
      ]
    },
    {
      "cell_type": "markdown",
      "metadata": {
        "id": "PKmEywXyMu93"
      },
      "source": [
        "## 4. Clean the data "
      ]
    },
    {
      "cell_type": "code",
      "execution_count": 70,
      "metadata": {
        "colab": {
          "base_uri": "https://localhost:8080/"
        },
        "id": "VCBgyGykMu93",
        "outputId": "0718d458-c2c7-455d-9be6-afa0f24863e8"
      },
      "outputs": [
        {
          "name": "stdout",
          "output_type": "stream",
          "text": [
            "Shape of the cleaned DataFrame:\n",
            "(4840, 2)\n",
            "\n",
            "First few rows of the cleaned DataFrame:\n",
            "  sentiment                                           headline\n",
            "0   neutral  according to gran  the company has no plans to...\n",
            "1   neutral  technopolis plans to develop in stages an area...\n",
            "2  negative  the international electronic industry company ...\n",
            "3  positive  with the new production plant the company woul...\n",
            "4  positive  according to the company s updated strategy fo...\n",
            "\n",
            "Value counts for 'sentiment' column:\n",
            "neutral     2873\n",
            "positive    1363\n",
            "negative     604\n",
            "Name: sentiment, dtype: int64\n"
          ]
        },
        {
          "name": "stderr",
          "output_type": "stream",
          "text": [
            "<ipython-input-70-ca6b8336d875>:9: FutureWarning: The default value of regex will change from True to False in a future version.\n",
            "  news_headline['headline'] = news_headline['headline'].str.replace('[^\\w\\s]','')  # remove punctuation\n"
          ]
        }
      ],
      "source": [
        "# Check for null values\n",
        "if news_headline.isnull().sum().any():\n",
        "    news_headline = news_headline.dropna()  # or fill them with appropriate values\n",
        "\n",
        "# Remove duplicates\n",
        "news_headline = news_headline.drop_duplicates()\n",
        "\n",
        "# Clean the text data\n",
        "news_headline['headline'] = news_headline['headline'].str.replace('[^\\w\\s]','')  # remove punctuation\n",
        "news_headline['headline'] = news_headline['headline'].str.lower()  # convert to lowercase\n",
        "\n",
        "# Print shape of the cleaned DataFrame\n",
        "print(\"Shape of the cleaned DataFrame:\")\n",
        "print(news_headline.shape)\n",
        "\n",
        "# Display the first few rows of the cleaned DataFrame\n",
        "print(\"\\nFirst few rows of the cleaned DataFrame:\")\n",
        "print(news_headline.head())\n",
        "\n",
        "# Display value counts for 'sentiment' column\n",
        "print(\"\\nValue counts for 'sentiment' column:\")\n",
        "print(news_headline['sentiment'].value_counts())"
      ]
    },
    {
      "cell_type": "markdown",
      "metadata": {
        "id": "tQZRtcHmMu93"
      },
      "source": [
        "## 5. SMOTE (Imbalanced dataset)"
      ]
    },
    {
      "cell_type": "code",
      "execution_count": 71,
      "metadata": {
        "colab": {
          "base_uri": "https://localhost:8080/"
        },
        "id": "Imc91hCcMu93",
        "outputId": "b837e760-2793-46b4-96f8-6bb825d1c8a1"
      },
      "outputs": [
        {
          "name": "stdout",
          "output_type": "stream",
          "text": [
            "Shape of the resampled DataFrame:\n",
            "(8619, 11219)\n",
            "\n",
            "Value counts for 'sentiment' column in the resampled DataFrame:\n",
            "neutral     2873\n",
            "negative    2873\n",
            "positive    2873\n",
            "Name: sentiment, dtype: int64\n"
          ]
        }
      ],
      "source": [
        "# Separate features (X) and target variable (y)\n",
        "X = news_headline['headline']  # Assuming 'headline' column contains text data\n",
        "y = news_headline['sentiment']\n",
        "\n",
        "# Convert text data into numerical features using CountVectorizer\n",
        "vectorizer = CountVectorizer()\n",
        "X_vectorized = vectorizer.fit_transform(X)\n",
        "\n",
        "smote = SMOTE()\n",
        "\n",
        "# Apply SMOTE to generate synthetic samples\n",
        "X_resampled, y_resampled = smote.fit_resample(X_vectorized, y)\n",
        "\n",
        "resampled_df = pd.DataFrame(X_resampled.toarray(), columns=vectorizer.get_feature_names_out())\n",
        "\n",
        "# Print shape of the resampled DataFrame\n",
        "print(\"Shape of the resampled DataFrame:\")\n",
        "print(resampled_df.shape)\n",
        "\n",
        "# Display value counts for 'sentiment' column in the resampled DataFrame\n",
        "print(\"\\nValue counts for 'sentiment' column in the resampled DataFrame:\")\n",
        "print(y_resampled.value_counts())"
      ]
    },
    {
      "cell_type": "markdown",
      "metadata": {
        "id": "EhR2-WBkMu93"
      },
      "source": [
        "## 6. BoW model "
      ]
    },
    {
      "cell_type": "code",
      "execution_count": 72,
      "metadata": {
        "colab": {
          "base_uri": "https://localhost:8080/"
        },
        "id": "RWPEexDXMu93",
        "outputId": "b399d5c7-b70c-4c62-a964-ad825eded674"
      },
      "outputs": [
        {
          "name": "stdout",
          "output_type": "stream",
          "text": [
            "['00' '000' '000063' ... 'zte' 'zu' 'ðl']\n",
            "[[0 0 0 ... 0 0 0]\n",
            " [0 0 0 ... 0 0 0]\n",
            " [0 0 0 ... 0 0 0]\n",
            " ...\n",
            " [0 0 0 ... 0 0 0]\n",
            " [0 0 0 ... 0 0 0]\n",
            " [0 0 0 ... 0 0 0]]\n"
          ]
        }
      ],
      "source": [
        "# Separate features (X) and target variable (y)\n",
        "X = news_headline['headline'].values\n",
        "y = news_headline['sentiment']\n",
        "\n",
        "# Convert text data into numerical features using CountVectorizer\n",
        "c_vectorizer = CountVectorizer()\n",
        "X_vectorized = c_vectorizer.fit_transform(X)\n",
        "\n",
        "# feature names\n",
        "print(c_vectorizer.get_feature_names_out())\n",
        "\n",
        "# BoW matrix as an Array\n",
        "print(X_vectorized.toarray())"
      ]
    },
    {
      "cell_type": "markdown",
      "metadata": {
        "id": "mia3huV6Mu93"
      },
      "source": [
        "## 7. Tf-idf model "
      ]
    },
    {
      "cell_type": "code",
      "execution_count": 73,
      "metadata": {
        "colab": {
          "base_uri": "https://localhost:8080/"
        },
        "id": "NyNMDtaKMu93",
        "outputId": "c942a187-3ad1-49d4-dcad-6a5f99a6985f"
      },
      "outputs": [
        {
          "name": "stdout",
          "output_type": "stream",
          "text": [
            "['00' '000' '000063' ... 'zte' 'zu' 'ðl']\n",
            "[[0. 0. 0. ... 0. 0. 0.]\n",
            " [0. 0. 0. ... 0. 0. 0.]\n",
            " [0. 0. 0. ... 0. 0. 0.]\n",
            " ...\n",
            " [0. 0. 0. ... 0. 0. 0.]\n",
            " [0. 0. 0. ... 0. 0. 0.]\n",
            " [0. 0. 0. ... 0. 0. 0.]]\n"
          ]
        }
      ],
      "source": [
        "tfidf_vectorizer = TfidfVectorizer()\n",
        "X_tfidf = tfidf_vectorizer.fit_transform(X)\n",
        "\n",
        "# feature names\n",
        "print(tfidf_vectorizer.get_feature_names_out())\n",
        "# tfidf as an Array\n",
        "print(X_tfidf.toarray())"
      ]
    },
    {
      "cell_type": "markdown",
      "metadata": {
        "id": "60dYDDOhMu94"
      },
      "source": [
        "## 8. Split train test data "
      ]
    },
    {
      "cell_type": "code",
      "execution_count": 74,
      "metadata": {
        "colab": {
          "base_uri": "https://localhost:8080/"
        },
        "id": "EggEiCeoMu94",
        "outputId": "38992964-e608-44bf-dad9-33cce70f389f"
      },
      "outputs": [
        {
          "name": "stdout",
          "output_type": "stream",
          "text": [
            "Training set shape (SMOTE): (6895, 11219) (6895,)\n",
            "Testing set shape (SMOTE): (1724, 11219) (1724,)\n"
          ]
        }
      ],
      "source": [
        "# Separate features (X) and target variable (y)\n",
        "X = news_headline['headline']\n",
        "y = news_headline['sentiment']\n",
        "\n",
        "# Split the dataset into training and testing sets\n",
        "# X_train, X_test, y_train, y_test = train_test_split(X, y, test_size=0.2, random_state=86)\n",
        "\n",
        "# Print the shapes of the training and testing sets\n",
        "# print(\"Training set shape:\", X_train.shape, y_train.shape)\n",
        "# print(\"Testing set shape:\", X_test.shape, y_test.shape)\n",
        "\n",
        "# USING SMOTE RESAMPLED TRAIN AND TEST PARAMETERS\n",
        "\n",
        "# Split the resampled dataset into training and testing sets\n",
        "X_train_resampled, X_test_resampled, y_train_resampled, y_test_resampled = train_test_split(X_resampled, y_resampled, test_size=0.2, random_state=86)\n",
        "\n",
        "# Print the shapes of the training and testing sets\n",
        "print(\"Training set shape (SMOTE):\", X_train_resampled.shape, y_train_resampled.shape)\n",
        "print(\"Testing set shape (SMOTE):\", X_test_resampled.shape, y_test_resampled.shape)"
      ]
    },
    {
      "cell_type": "markdown",
      "metadata": {
        "id": "75UTF_tsMu94"
      },
      "source": [
        "## 9. Classification Algorithm \n",
        "- Train\n",
        "- Predict"
      ]
    },
    {
      "cell_type": "code",
      "execution_count": 75,
      "metadata": {
        "colab": {
          "base_uri": "https://localhost:8080/"
        },
        "id": "UFV11NnMMu94",
        "outputId": "224cab78-4458-4923-bf35-a25884a08adb"
      },
      "outputs": [
        {
          "name": "stdout",
          "output_type": "stream",
          "text": [
            "Accuracy: 0.6653132250580046\n",
            "Classification Report:\n",
            "              precision    recall  f1-score   support\n",
            "\n",
            "    negative       0.68      0.76      0.72       576\n",
            "     neutral       0.67      0.79      0.73       585\n",
            "    positive       0.63      0.43      0.51       563\n",
            "\n",
            "    accuracy                           0.67      1724\n",
            "   macro avg       0.66      0.66      0.65      1724\n",
            "weighted avg       0.66      0.67      0.65      1724\n",
            "\n",
            "Confusion Matrix:\n",
            "[[439  71  66]\n",
            " [ 45 465  75]\n",
            " [166 154 243]]\n"
          ]
        }
      ],
      "source": [
        "# Multinomial Naive Bayes model\n",
        "mnb_model = MultinomialNB()\n",
        "mnb_model.fit(X_train_resampled, y_train_resampled)\n",
        "y_pred = mnb_model.predict(X_test_resampled)\n",
        "\n",
        "# Calculate accuracy\n",
        "accuracy = accuracy_score(y_test_resampled, y_pred)\n",
        "print(\"Accuracy:\", accuracy)\n",
        "\n",
        "# Classification report\n",
        "print(\"Classification Report:\")\n",
        "print(classification_report(y_test_resampled, y_pred))\n",
        "\n",
        "# Confusion matrix\n",
        "print(\"Confusion Matrix:\")\n",
        "print(confusion_matrix(y_test_resampled, y_pred))"
      ]
    },
    {
      "cell_type": "markdown",
      "metadata": {
        "id": "PXYcGEZjMu94"
      },
      "source": [
        "## 10. Another Classification Algorithm \n",
        "- Train\n",
        "- Predict"
      ]
    },
    {
      "cell_type": "code",
      "execution_count": 76,
      "metadata": {
        "colab": {
          "base_uri": "https://localhost:8080/"
        },
        "id": "qFP635VEMu94",
        "outputId": "1926ef85-13fa-4210-ce3a-4471045367cc"
      },
      "outputs": [
        {
          "name": "stdout",
          "output_type": "stream",
          "text": [
            "Accuracy: 0.7378190255220418\n",
            "Classification Report:\n",
            "              precision    recall  f1-score   support\n",
            "\n",
            "    negative       0.73      0.85      0.79       576\n",
            "     neutral       0.80      0.75      0.78       585\n",
            "    positive       0.68      0.61      0.64       563\n",
            "\n",
            "    accuracy                           0.74      1724\n",
            "   macro avg       0.74      0.74      0.73      1724\n",
            "weighted avg       0.74      0.74      0.74      1724\n",
            "\n",
            "Confusion Matrix:\n",
            "[[490  29  57]\n",
            " [ 41 439 105]\n",
            " [141  79 343]]\n"
          ]
        }
      ],
      "source": [
        "# Logistic Regression model\n",
        "logreg_model = LogisticRegression(max_iter=1000)\n",
        "logreg_model.fit(X_train_resampled, y_train_resampled)\n",
        "\n",
        "y_pred = logreg_model.predict(X_test_resampled)\n",
        "\n",
        "# Calculate accuracy\n",
        "accuracy = accuracy_score(y_test_resampled, y_pred)\n",
        "print(\"Accuracy:\", accuracy)\n",
        "\n",
        "# Classification report\n",
        "print(\"Classification Report:\")\n",
        "print(classification_report(y_test_resampled, y_pred))\n",
        "\n",
        "# Confusion matrix\n",
        "print(\"Confusion Matrix:\")\n",
        "print(confusion_matrix(y_test_resampled, y_pred))"
      ]
    },
    {
      "cell_type": "markdown",
      "metadata": {
        "id": "p9HbaxAEMu94"
      },
      "source": [
        "## 11. Confusion Matrixes for two classification algorithms and two feature extractor methods "
      ]
    },
    {
      "cell_type": "code",
      "execution_count": 77,
      "metadata": {
        "colab": {
          "base_uri": "https://localhost:8080/",
          "height": 1000
        },
        "id": "HY60bK-BMu94",
        "outputId": "4d7bdb3c-ae55-499c-ef43-b726eea35224"
      },
      "outputs": [
        {
          "data": {
            "image/png": "[encoded data removed]",
            "text/plain": [
              "<Figure size 1000x700 with 2 Axes>"
            ]
          },
          "metadata": {},
          "output_type": "display_data"
        },
        {
          "data": {
            "image/png": "[encoded data removed]",
            "text/plain": [
              "<Figure size 1000x700 with 2 Axes>"
            ]
          },
          "metadata": {},
          "output_type": "display_data"
        },
        {
          "data": {
            "image/png": "[encoded data removed]",
            "text/plain": [
              "<Figure size 1000x700 with 2 Axes>"
            ]
          },
          "metadata": {},
          "output_type": "display_data"
        },
        {
          "data": {
            "image/png": "[encoded data removed]",
            "text/plain": [
              "<Figure size 1000x700 with 2 Axes>"
            ]
          },
          "metadata": {},
          "output_type": "display_data"
        }
      ],
      "source": [
        "# Re-initializing X and y\n",
        "X = news_headline['headline'].values\n",
        "y = news_headline['sentiment'].values\n",
        "\n",
        "vectorizers = {\n",
        "    'BoW': CountVectorizer(),\n",
        "    'TF-IDF': TfidfVectorizer()\n",
        "}\n",
        "\n",
        "classifiers = {\n",
        "    'Naive Bayes': MultinomialNB(),\n",
        "    'Logistic Regression': LogisticRegression(max_iter=1000)\n",
        "}\n",
        "\n",
        "\n",
        "for vect_name, vectorizer in vectorizers.items():\n",
        "    for clf_name, clf in classifiers.items():\n",
        "\n",
        "        features = vectorizer.fit_transform(X)\n",
        "\n",
        "        smote = SMOTE(random_state=86)\n",
        "        features_resampled, labels_resampled = smote.fit_resample(features, y)\n",
        "\n",
        "        X_train, X_test, y_train, y_test = train_test_split(features_resampled, labels_resampled, test_size=0.2, random_state=86)\n",
        "        clf.fit(X_train, y_train)\n",
        "        y_pred = clf.predict(X_test)\n",
        "\n",
        "        # Confusion matrix\n",
        "        cm = confusion_matrix(y_test, y_pred)\n",
        "\n",
        "        # Display the confusion matrix\n",
        "        plt.figure(figsize=(10,7))\n",
        "        sns.heatmap(cm, annot=True, fmt='d')\n",
        "        plt.title(f'Confusion Matrix for {clf_name} with {vect_name} and SMOTE')\n",
        "        plt.show()"
      ]
    }
  ],
  "metadata": {
    "colab": {
      "provenance": []
    },
    "kernelspec": {
      "display_name": "testing",
      "language": "python",
      "name": "testing"
    },
    "language_info": {
      "codemirror_mode": {
        "name": "ipython",
        "version": 3
      },
      "file_extension": ".py",
      "mimetype": "text/x-python",
      "name": "python",
      "nbconvert_exporter": "python",
      "pygments_lexer": "ipython3",
      "version": "3.8.5"
    }
  },
  "nbformat": 4,
  "nbformat_minor": 0
}

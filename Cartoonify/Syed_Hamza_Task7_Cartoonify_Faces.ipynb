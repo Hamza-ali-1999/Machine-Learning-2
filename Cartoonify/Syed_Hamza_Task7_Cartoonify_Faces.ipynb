{
 "cells": [
  {
   "cell_type": "markdown",
   "metadata": {},
   "source": [
    "# Syed Hamza Ali\n",
    "# Task 7: Cartoonify Faces\n",
    "\n",
    "This task tests your ability to apply Video processing and Face detection techniques to place a cartoon mask instead of your face in the video.\n",
    "\n",
    "This project includes :\n",
    "\n",
    "1. Python Notebook (IPYNB)\n",
    "\n",
    "2. Cartoon mask (JPG/PNG)\n",
    "\n",
    "3. Video (wav/mp3) OR Screenshot Image (JPG/PNG)"
   ]
  },
  {
   "cell_type": "code",
   "execution_count": 4,
   "metadata": {},
   "outputs": [],
   "source": [
    "import cv2\n",
    "import os\n",
    "import numpy as np"
   ]
  },
  {
   "cell_type": "markdown",
   "metadata": {},
   "source": [
    "# Face Masker Class Definition"
   ]
  },
  {
   "cell_type": "code",
   "execution_count": 5,
   "metadata": {},
   "outputs": [],
   "source": [
    "class FaceMasker:\n",
    "    \n",
    "    # Constructor method to initialize object\n",
    "    def __init__(self, mask_path, scale=1.8, recording_path=None):\n",
    "        \n",
    "        # Initialize FPS for recording\n",
    "        self.recording_fps = 60\n",
    "        \n",
    "        # Load Haar Cascade classifier for face detection\n",
    "        self.face_cascade = cv2.CascadeClassifier(cv2.data.haarcascades + 'haarcascade_frontalface_alt2.xml')\n",
    "        \n",
    "        # Initialize video capture from default camera (0)\n",
    "        self.video_capture = cv2.VideoCapture(0)\n",
    "        self.scale = scale\n",
    "\n",
    "        # Load mask image\n",
    "        self.mask = cv2.imread(mask_path, cv2.IMREAD_UNCHANGED)\n",
    "        self.recording_path = recording_path\n",
    "        \n",
    "        # Initialize video writer if recording path is provided\n",
    "        if self.recording_path:\n",
    "            width, height = int(self.video_capture.get(cv2.CAP_PROP_FRAME_WIDTH)), int(self.video_capture.get(cv2.CAP_PROP_FRAME_HEIGHT))\n",
    "            self.video_writer = cv2.VideoWriter(self.recording_path, cv2.VideoWriter_fourcc(*'XVID'), self.recording_fps, (width, height))\n",
    "        else:\n",
    "            self.video_writer = None\n",
    "\n",
    "\n",
    "    # Method to start the face masking process\n",
    "    def start(self):\n",
    "\n",
    "        while True:\n",
    "\n",
    "            ret, frame = self.video_capture.read()\n",
    "            if not ret:\n",
    "                break\n",
    "\n",
    "            frame = cv2.flip(frame, 1)\n",
    "            gray = cv2.cvtColor(frame, cv2.COLOR_BGR2GRAY)\n",
    "            faces = self.face_cascade.detectMultiScale(gray, scaleFactor=1.1, minNeighbors=5, minSize=(60, 60))\n",
    "            \n",
    "            # Iterate through detected faces\n",
    "            for (x, y, w, h) in faces:\n",
    "\n",
    "                scaled = int(w * self.scale)\n",
    "                resized_mask = cv2.resize(self.mask, (scaled, scaled))\n",
    "\n",
    "                # Calculate coordinates for placing the mask on the face\n",
    "                x1, y1 = x - (scaled - w) // 2, y - (scaled - h) // 2\n",
    "                x2, y2 = x1 + scaled, y1 + scaled\n",
    "\n",
    "                # Check if mask coordinates are within frame boundaries\n",
    "                if all(0 < p < frame.shape[i] for p, i in zip((x1, x2, y1, y2), (1, 1, 0, 0))):\n",
    "                    alpha_s = resized_mask[:, :, 3] / 255.0\n",
    "                    alpha_l = 1.0 - alpha_s\n",
    "                    for c in range(3):\n",
    "                        frame[y1:y2, x1:x2, c] = alpha_s * resized_mask[:, :, c] + alpha_l * frame[y1:y2, x1:x2, c]\n",
    "            \n",
    "            cv2.imshow('Face Video', frame)   \n",
    "                 \n",
    "            # Break loop if 'q' is pressed\n",
    "            if cv2.waitKey(1) & 0xFF == ord('q'):\n",
    "                break\n",
    "            \n",
    "            if self.video_writer:\n",
    "                self.video_writer.write(frame)\n",
    "\n",
    "        # Release video writer if recording was enabled\n",
    "        if self.video_writer:\n",
    "            self.video_writer.release()\n",
    "\n",
    "        # Release video capture and close all windows\n",
    "        self.video_capture.release()\n",
    "        cv2.destroyAllWindows()"
   ]
  },
  {
   "cell_type": "code",
   "execution_count": 6,
   "metadata": {},
   "outputs": [],
   "source": [
    "face_masker = FaceMasker('cartoon_mask.png', 1.8, 'cartoon_mask_video.mp4')\n",
    "face_masker.start()"
   ]
  }
 ],
 "metadata": {
  "kernelspec": {
   "display_name": "Python 3",
   "language": "python",
   "name": "python3"
  },
  "language_info": {
   "codemirror_mode": {
    "name": "ipython",
    "version": 3
   },
   "file_extension": ".py",
   "mimetype": "text/x-python",
   "name": "python",
   "nbconvert_exporter": "python",
   "pygments_lexer": "ipython3",
   "version": "3.11.5"
  }
 },
 "nbformat": 4,
 "nbformat_minor": 2
}

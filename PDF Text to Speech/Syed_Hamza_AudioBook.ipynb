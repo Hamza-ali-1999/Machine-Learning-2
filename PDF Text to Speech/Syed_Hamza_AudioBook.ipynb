{
 "cells": [
  {
   "cell_type": "markdown",
   "metadata": {},
   "source": [
    "# Create an Audiobook from a PDF\n",
    "## This task tests your ability to apply Text to Speech conversion and Extraction of Text from PDF files in the creation of an audiobook from a PDF file"
   ]
  },
  {
   "cell_type": "markdown",
   "metadata": {},
   "source": [
    "### Steps\n",
    "- Extract text from PDF file\n",
    "- Clean the text\n",
    "- Convert the text into speech\n",
    "- Save the speech\n",
    "- Play the speech"
   ]
  },
  {
   "cell_type": "markdown",
   "metadata": {},
   "source": [
    "## 1. Extract text from PDF\n",
    "- Use PyPDF2"
   ]
  },
  {
   "cell_type": "markdown",
   "metadata": {},
   "source": [
    "### Install the library"
   ]
  },
  {
   "cell_type": "code",
   "execution_count": null,
   "metadata": {},
   "outputs": [
    {
     "name": "stdout",
     "output_type": "stream",
     "text": [
      "Collecting gtts\n",
      "  Downloading gTTS-2.5.1-py3-none-any.whl.metadata (4.1 kB)\n",
      "Requirement already satisfied: requests<3,>=2.27 in c:\\users\\syed\\appdata\\local\\programs\\python\\python311\\lib\\site-packages (from gtts) (2.31.0)\n",
      "Requirement already satisfied: click<8.2,>=7.1 in c:\\users\\syed\\appdata\\local\\programs\\python\\python311\\lib\\site-packages (from gtts) (8.1.7)\n",
      "Requirement already satisfied: colorama in c:\\users\\syed\\appdata\\roaming\\python\\python311\\site-packages (from click<8.2,>=7.1->gtts) (0.4.6)\n",
      "Requirement already satisfied: charset-normalizer<4,>=2 in c:\\users\\syed\\appdata\\local\\programs\\python\\python311\\lib\\site-packages (from requests<3,>=2.27->gtts) (3.3.2)\n",
      "Requirement already satisfied: idna<4,>=2.5 in c:\\users\\syed\\appdata\\local\\programs\\python\\python311\\lib\\site-packages (from requests<3,>=2.27->gtts) (3.6)\n",
      "Requirement already satisfied: urllib3<3,>=1.21.1 in c:\\users\\syed\\appdata\\local\\programs\\python\\python311\\lib\\site-packages (from requests<3,>=2.27->gtts) (2.1.0)\n",
      "Requirement already satisfied: certifi>=2017.4.17 in c:\\users\\syed\\appdata\\local\\programs\\python\\python311\\lib\\site-packages (from requests<3,>=2.27->gtts) (2023.11.17)\n",
      "Downloading gTTS-2.5.1-py3-none-any.whl (29 kB)\n",
      "Installing collected packages: gtts\n",
      "Successfully installed gtts-2.5.1\n"
     ]
    }
   ],
   "source": [
    "#! pip install PyPDF2"
   ]
  },
  {
   "cell_type": "markdown",
   "metadata": {},
   "source": [
    "### Import the library"
   ]
  },
  {
   "cell_type": "code",
   "execution_count": 31,
   "metadata": {},
   "outputs": [],
   "source": [
    "from PyPDF2 import PdfReader\n",
    "from gtts import gTTS"
   ]
  },
  {
   "cell_type": "markdown",
   "metadata": {},
   "source": [
    "### Extract the text"
   ]
  },
  {
   "cell_type": "code",
   "execution_count": 32,
   "metadata": {},
   "outputs": [],
   "source": [
    "# Text Extraction function\n",
    "def extract_text_from_pdf(pdf_path):\n",
    "\n",
    "    with open(pdf_path, 'rb') as file:\n",
    "        # Creating PDF reader\n",
    "        pdf_reader = PdfReader(file)\n",
    "\n",
    "        text = \"\"\n",
    "\n",
    "        # Iterate through each page\n",
    "        for page in pdf_reader.pages:\n",
    "\n",
    "            # Extracting text from current page\n",
    "            text += page.extract_text()\n",
    "\n",
    "    return text.strip()"
   ]
  },
  {
   "cell_type": "markdown",
   "metadata": {},
   "source": [
    "### Print the extracted text"
   ]
  },
  {
   "cell_type": "code",
   "execution_count": 33,
   "metadata": {},
   "outputs": [
    {
     "name": "stdout",
     "output_type": "stream",
     "text": [
      "Shall I compare thee to a summer’s day?\n",
      "Thou art more lovely and more temperate.\n",
      "Rough winds do shake the darling buds of May,\n",
      "And summer’s lease hath all too short a date.\n",
      "Sometime too hot the eye of heaven shines,\n",
      "And often is his gold complexion dimmed;\n",
      "And every fair from fair sometime declines,\n",
      "By chance or nature’s changing course untrimmed.\n",
      "But thy eternal summer shall not fade\n",
      "Nor lose possession of that fair thou ow’st,\n",
      "Nor shall Death brag thou wand’rest in his shade,\n",
      "When in eternal lines to time thou grow’st.\n",
      " So long as men can breathe or eyes can see,\n",
      " So long lives this, and this gives life to thee.18\n",
      "4\n",
      "8\n",
      "12Devouring Time, blunt thou the lion’s paws\n",
      "And make the Earth devour her own sweet brood;\n",
      "Pluck the keen teeth from the fierce tiger’s jaws,\n",
      "And burn the long-lived phoenix in her blood;\n",
      "Make glad and sorry seasons as thou fleet’st\n",
      "And do whate’er thou wilt, swift-footed Time,\n",
      "To the wide world and all her fading sweets.\n",
      "But I forbid thee one most heinous crime:\n",
      "O, carve not with thy hours my love’s fair brow,\n",
      "Nor draw no lines there with thine antique pen;\n",
      "Him in thy course untainted do allow\n",
      "For beauty’s pattern to succeeding men.\n",
      " Yet do thy worst, old Time; despite thy wrong,\n",
      " My love shall in my verse ever live young.19\n",
      "4\n",
      "8\n",
      "12A woman’s face with Nature’s own hand painted\n",
      "Hast thou, the master mistress of my passion;\n",
      "A woman’s gentle heart, but not acquainted\n",
      "With shifting change, as is false women’s fashion;\n",
      "An eye more bright than theirs, less false in rolling,\n",
      "Gilding the object whereupon it gazeth;\n",
      "A man in hue all hues in his controlling,\n",
      "Which steals men’s eyes and women’s souls amazeth.\n",
      "And for a woman wert thou first created,\n",
      "Till Nature as she wrought thee fell a-doting,\n",
      "And by addition me of thee defeated\n",
      "By adding one thing to my purpose nothing.\n",
      " But since she pricked thee out for women’s pleasure,\n",
      " Mine be thy love, and thy love’s use their treasure.20\n",
      "4\n",
      "8\n",
      "12So is it not with me as with that muse\n",
      "Stirred by a painted beauty to his verse,\n",
      "Who heaven itself for ornament doth use\n",
      "And every fair with his fair doth rehearse,\n",
      "Making a couplement of proud compare\n",
      "With sun and moon, with earth and sea’s rich gems,\n",
      "With April’s firstborn flowers and all things rare\n",
      "That heaven’s air in this huge rondure hems.\n",
      "O, let me, true in love, but truly write,\n",
      "And then believe me, my love is as fair\n",
      "As any mother’s child, though not so bright\n",
      "As those gold candles fixed in heaven’s air.\n",
      " Let them say more that like of hearsay well;\n",
      " I will not praise that purpose not to sell.21\n",
      "4\n",
      "8\n",
      "12My glass shall not persuade me I am old\n",
      "So long as youth and thou are of one date,\n",
      "But when in thee Time’s furrows I behold,\n",
      "Then look I death my days should expiate.\n",
      "For all that beauty that doth cover thee\n",
      "Is but the seemly raiment of my heart,\n",
      "Which in thy breast doth live, as thine in me;\n",
      "How can I then be elder than thou art?\n",
      "O, therefore, love, be of thyself so wary\n",
      "As I not for myself but for thee will,\n",
      "Bearing thy heart, which I will keep so chary\n",
      "As tender nurse her babe from faring ill.\n",
      " Presume not on thy heart when mine is slain.\n",
      " Thou gav’st me thine not to give back again.22\n",
      "4\n",
      "8\n",
      "12As an unperfect actor on the stage\n",
      "Who with his fear is put beside his part,\n",
      "Or some fierce thing replete with too much rage,\n",
      "Whose strength’s abundance weakens his own heart;\n",
      "So I for fear of trust forget to say\n",
      "The perfect ceremony of love’s rite,\n",
      "And in mine own love’s strength seem to decay,\n",
      "O’ercharged with burden of mine own love’s might.\n",
      "O, let my books be then the eloquence\n",
      "And dumb presagers of my speaking breast,\n",
      "Who plead for love and look for recompense\n",
      "More than that tongue that more hath more expressed.\n",
      " O, learn to read what silent love hath writ.\n",
      " To hear with eyes belongs to love’s fine wit.23\n",
      "4\n",
      "8\n",
      "12Mine eye hath played the painter and hath stelled\n",
      "Thy beauty’s form in table of my heart;\n",
      "My body is the frame wherein ’tis held,\n",
      "And perspective it is best painter’s art.\n",
      "For through the painter must you see his skill\n",
      "To find where your true image pictured lies,\n",
      "Which in my bosom’s shop is hanging still,\n",
      "That hath his windows glazèd with thine eyes.\n",
      "Now see what good turns eyes for eyes have done:\n",
      "Mine eyes have drawn thy shape, and thine for me\n",
      "Are windows to my breast, wherethrough the sun\n",
      "Delights to peep, to gaze therein on thee.\n",
      " Yet eyes this cunning want to grace their art:\n",
      " They draw but what they see, know not the heart.24\n",
      "4\n",
      "8\n",
      "12Let those who are in favor with their stars\n",
      "Of public honor and proud titles boast,\n",
      "Whilst I, whom fortune of such triumph bars,\n",
      "Unlooked for joy in that I honor most.\n",
      "Great princes’ favorites their fair leaves spread\n",
      "But as the marigold at the sun’s eye,\n",
      "And in themselves their pride lies burièd,\n",
      "For at a frown they in their glory die.\n",
      "The painful warrior famousèd for worth,\n",
      "After a thousand victories once foiled,\n",
      "Is from the book of honor razèd quite,\n",
      "And all the rest forgot for which he toiled.\n",
      " Then happy I, that love and am beloved\n",
      " Where I may not remove nor be removed.25\n",
      "4\n",
      "8\n",
      "12Lord of my love, to whom in vassalage\n",
      "Thy merit hath my duty strongly knit,\n",
      "To thee I send this written embassage\n",
      "To witness duty, not to show my wit;\n",
      "Duty so great, which wit so poor as mine\n",
      "May make seem bare, in wanting words to show it,\n",
      "But that I hope some good conceit of thine\n",
      "In thy soul’s thought, all naked, will bestow it;\n",
      "Till whatsoever star that guides my moving\n",
      "Points on me graciously with fair aspect,\n",
      "And puts apparel on my tattered loving\n",
      "To show me worthy of thy sweet respect.\n",
      " Then may I dare to boast how I do love thee;\n",
      " Till then, not show my head where thou mayst prove me.26\n",
      "4\n",
      "8\n",
      "12\n",
      "Weary with toil, I haste me to my bed,\n",
      "The dear repose for limbs with travel tired,\n",
      "But then begins a journey in my head\n",
      "To work my mind when body’s work’s expired.\n",
      "For then my thoughts, from far where I abide,\n",
      "Intend a zealous pilgrimage to thee,\n",
      "And keep my drooping eyelids open wide,\n",
      "Looking on darkness which the blind do see;\n",
      "Save that my soul’s imaginary sight\n",
      "Presents thy shadow to my sightless view,\n",
      "Which like a jewel hung in ghastly night\n",
      "Makes black night beauteous and her old face new.\n",
      " Lo, thus, by day my limbs, by night my mind,\n",
      " For thee and for myself no quiet find.27\n",
      "4\n",
      "8\n",
      "12\n"
     ]
    }
   ],
   "source": [
    "text = extract_text_from_pdf('shakespeare_sonnet_18.pdf')\n",
    "print(text)"
   ]
  },
  {
   "cell_type": "markdown",
   "metadata": {},
   "source": [
    "## 2. Convert the Text into Speech\n",
    "- Use **pyttsx3** OR **gTTS**"
   ]
  },
  {
   "cell_type": "markdown",
   "metadata": {},
   "source": [
    "### Install the library"
   ]
  },
  {
   "cell_type": "code",
   "execution_count": 34,
   "metadata": {},
   "outputs": [
    {
     "name": "stdout",
     "output_type": "stream",
     "text": [
      "Requirement already satisfied: pyttsx3 in c:\\users\\syed\\appdata\\local\\programs\\python\\python311\\lib\\site-packages (2.90)\n",
      "Requirement already satisfied: comtypes in c:\\users\\syed\\appdata\\local\\programs\\python\\python311\\lib\\site-packages (from pyttsx3) (1.3.1)\n",
      "Requirement already satisfied: pypiwin32 in c:\\users\\syed\\appdata\\local\\programs\\python\\python311\\lib\\site-packages (from pyttsx3) (223)\n",
      "Requirement already satisfied: pywin32 in c:\\users\\syed\\appdata\\roaming\\python\\python311\\site-packages (from pyttsx3) (306)\n"
     ]
    }
   ],
   "source": [
    "#! pip install pyttsx3\n",
    "#! pip install gtts"
   ]
  },
  {
   "cell_type": "markdown",
   "metadata": {},
   "source": [
    "### Import the library"
   ]
  },
  {
   "cell_type": "code",
   "execution_count": 45,
   "metadata": {},
   "outputs": [],
   "source": [
    "import pyttsx3\n",
    "from gtts import gTTS"
   ]
  },
  {
   "cell_type": "markdown",
   "metadata": {},
   "source": [
    "### Initialize a Speaker object"
   ]
  },
  {
   "cell_type": "code",
   "execution_count": 46,
   "metadata": {},
   "outputs": [],
   "source": [
    "# Initializing for both methods\n",
    "tts_py3 = pyttsx3.init()\n",
    "tts = gTTS(text)"
   ]
  },
  {
   "cell_type": "markdown",
   "metadata": {},
   "source": [
    "### Convert the text"
   ]
  },
  {
   "cell_type": "code",
   "execution_count": 47,
   "metadata": {},
   "outputs": [],
   "source": [
    "# Setting properties for the speech\n",
    "tts_py3.setProperty('rate', 150)  # Speed of speech\n",
    "tts_py3.setProperty('volume', 1)   # Volume (0.0 to 1.0)\n",
    "tts_py3.say(text)"
   ]
  },
  {
   "cell_type": "markdown",
   "metadata": {},
   "source": [
    "### Save the audio"
   ]
  },
  {
   "cell_type": "code",
   "execution_count": 48,
   "metadata": {},
   "outputs": [],
   "source": [
    "tts_py3.save_to_file(text, 'output.wav')    #pyttsx3\n",
    "#tts.runAndWait()\n",
    "\n",
    "tts.save('output.mp3')                  #gtts"
   ]
  }
 ],
 "metadata": {
  "kernelspec": {
   "display_name": "Python 3",
   "language": "python",
   "name": "python3"
  },
  "language_info": {
   "codemirror_mode": {
    "name": "ipython",
    "version": 3
   },
   "file_extension": ".py",
   "mimetype": "text/x-python",
   "name": "python",
   "nbconvert_exporter": "python",
   "pygments_lexer": "ipython3",
   "version": "3.11.5"
  }
 },
 "nbformat": 4,
 "nbformat_minor": 4
}

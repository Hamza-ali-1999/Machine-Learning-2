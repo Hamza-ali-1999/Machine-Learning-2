{
  "cells": [
    {
      "cell_type": "markdown",
      "metadata": {
        "id": "9yY4iwf9Bixz"
      },
      "source": [
        "# Syed Hamza Ali"
      ]
    },
    {
      "cell_type": "markdown",
      "metadata": {
        "id": "W96O0n9n-i_0"
      },
      "source": [
        "# Task 4: Recommendation System - Movie Recommendation\n",
        "## This notebook outlines the concepts involved in building a Complete Recommendation System for recommending Movies to users\n",
        "## Movie Recommender System - A very very very simple Clone of Netflix"
      ]
    },
    {
      "cell_type": "markdown",
      "metadata": {
        "id": "GpWACljg-i_2"
      },
      "source": [
        "**MovieLens dataset** and build a model to **recommend movies** to the end users."
      ]
    },
    {
      "cell_type": "markdown",
      "metadata": {
        "id": "9mxBr2jlfO5y"
      },
      "source": [
        "### Note: Due to the size of the data set and the amount of ram that was left for me on google colab to accomodate this task, I commented out the collaborative filtering method as it immediately crashes the colab session (would only run with small sample sizes, for example when testing with 1000 samples, probably due too low memory on google colab).\n",
        "\n",
        "### Other than that, I tried everything for turicreate, but since i'm on windows 10 it gave me alot of problems for some reason. So i was not able to test with that on building the recommenders. Therefore i could only use surprise."
      ]
    },
    {
      "cell_type": "code",
      "execution_count": 1,
      "metadata": {
        "colab": {
          "base_uri": "https://localhost:8080/"
        },
        "id": "egry9-eTRfUK",
        "outputId": "40fe2c0f-5123-4ad7-a415-fadefbcfc88a"
      },
      "outputs": [
        {
          "name": "stdout",
          "output_type": "stream",
          "text": [
            "Requirement already satisfied: scikit-surprise in /usr/local/lib/python3.10/dist-packages (1.1.3)\n",
            "Requirement already satisfied: joblib>=1.0.0 in /usr/local/lib/python3.10/dist-packages (from scikit-surprise) (1.3.2)\n",
            "Requirement already satisfied: numpy>=1.17.3 in /usr/local/lib/python3.10/dist-packages (from scikit-surprise) (1.25.2)\n",
            "Requirement already satisfied: scipy>=1.3.2 in /usr/local/lib/python3.10/dist-packages (from scikit-surprise) (1.11.4)\n"
          ]
        }
      ],
      "source": [
        "! pip install scikit-surprise"
      ]
    },
    {
      "cell_type": "markdown",
      "metadata": {
        "id": "6Dy4VD2--i_2"
      },
      "source": [
        "### Import the libraries"
      ]
    },
    {
      "cell_type": "code",
      "execution_count": 2,
      "metadata": {
        "id": "yqU8nwPC-i_3"
      },
      "outputs": [],
      "source": [
        "import pandas as pd\n",
        "import numpy as np\n",
        "from sklearn.feature_extraction.text import TfidfVectorizer\n",
        "from sklearn.decomposition import TruncatedSVD\n",
        "from sklearn.metrics.pairwise import cosine_similarity\n",
        "from surprise import Dataset, Reader, accuracy, SVD\n",
        "from surprise.model_selection import cross_validate, train_test_split\n",
        "from sklearn.metrics.pairwise import cosine_similarity"
      ]
    },
    {
      "cell_type": "markdown",
      "metadata": {
        "id": "Q8c9CUfG-i_3"
      },
      "source": [
        "### Download the dataset"
      ]
    },
    {
      "cell_type": "code",
      "execution_count": 3,
      "metadata": {
        "id": "21h-PsGv-i_4"
      },
      "outputs": [],
      "source": [
        "# Step 1: Download the dataset\n",
        "# !wget http://files.grouplens.org/datasets/movielens/ml-20m.zip"
      ]
    },
    {
      "cell_type": "code",
      "execution_count": 4,
      "metadata": {
        "id": "pE7pACju-i_4"
      },
      "outputs": [],
      "source": [
        "# Step 2: Unzip the dataset\n",
        "# ! unzip ml-20m.zip"
      ]
    },
    {
      "cell_type": "markdown",
      "metadata": {
        "id": "N91O8iI2-i_4"
      },
      "source": [
        "### Load the dataset\n",
        "### Reading users file\n",
        "- u.user\n",
        "\n",
        "- Please check the column names from the readme file\n",
        "- Pass in column names for each CSV as the column name is not given in the file and read them using pandas\n",
        "- Use these following columns\n",
        "    - 'user_id', 'age', 'sex', 'occupation', 'zip_code'"
      ]
    },
    {
      "cell_type": "code",
      "execution_count": 5,
      "metadata": {
        "id": "cNmORaeY-i_4"
      },
      "outputs": [],
      "source": [
        "# Load CSV files into DataFrames\n",
        "movies = pd.read_csv('ml-20m/movies.csv')\n",
        "ratings = pd.read_csv('ml-20m/ratings.csv')\n",
        "tags = pd.read_csv('ml-20m/tags.csv')"
      ]
    },
    {
      "cell_type": "markdown",
      "metadata": {
        "id": "ojhEEMn8-i_4"
      },
      "source": [
        "### Display the user data"
      ]
    },
    {
      "cell_type": "code",
      "execution_count": 6,
      "metadata": {
        "colab": {
          "base_uri": "https://localhost:8080/"
        },
        "id": "SFCSpk7Q-i_4",
        "outputId": "96d953d7-17bc-4758-860e-1d498a6b8dba"
      },
      "outputs": [
        {
          "name": "stdout",
          "output_type": "stream",
          "text": [
            "\n",
            "Movies Data:\n",
            "   movieId                               title  \\\n",
            "0        1                    Toy Story (1995)   \n",
            "1        2                      Jumanji (1995)   \n",
            "2        3             Grumpier Old Men (1995)   \n",
            "3        4            Waiting to Exhale (1995)   \n",
            "4        5  Father of the Bride Part II (1995)   \n",
            "\n",
            "                                        genres  \n",
            "0  Adventure|Animation|Children|Comedy|Fantasy  \n",
            "1                   Adventure|Children|Fantasy  \n",
            "2                               Comedy|Romance  \n",
            "3                         Comedy|Drama|Romance  \n",
            "4                                       Comedy  \n",
            "\n",
            "Ratings Data:\n",
            "   userId  movieId  rating   timestamp\n",
            "0       1        2     3.5  1112486027\n",
            "1       1       29     3.5  1112484676\n",
            "2       1       32     3.5  1112484819\n",
            "3       1       47     3.5  1112484727\n",
            "4       1       50     3.5  1112484580\n",
            "\n",
            "Tags Data:\n",
            "   userId  movieId            tag   timestamp\n",
            "0      18     4141    Mark Waters  1240597180\n",
            "1      65      208      dark hero  1368150078\n",
            "2      65      353      dark hero  1368150079\n",
            "3      65      521  noir thriller  1368149983\n",
            "4      65      592      dark hero  1368150078\n"
          ]
        }
      ],
      "source": [
        "# Display the data for each DataFrame\n",
        "print(\"\\nMovies Data:\")\n",
        "print(movies.head())\n",
        "\n",
        "print(\"\\nRatings Data:\")\n",
        "print(ratings.head())\n",
        "\n",
        "print(\"\\nTags Data:\")\n",
        "print(tags.head())"
      ]
    },
    {
      "cell_type": "markdown",
      "metadata": {
        "id": "0sXKSlvnnUP_"
      },
      "source": [
        "# Merge tags by movieId"
      ]
    },
    {
      "cell_type": "code",
      "execution_count": 7,
      "metadata": {
        "id": "UxCFakMFP-0h"
      },
      "outputs": [],
      "source": [
        "movie_tags = tags.groupby('movieId')['tag'].apply(lambda x: ' '.join(map(str, x))).reset_index()"
      ]
    },
    {
      "cell_type": "markdown",
      "metadata": {
        "id": "uINqGhk_naNj"
      },
      "source": [
        "# Merging movies and movie_tags"
      ]
    },
    {
      "cell_type": "code",
      "execution_count": 8,
      "metadata": {
        "id": "EZ6wDi5zQpr0"
      },
      "outputs": [],
      "source": [
        "movies = pd.merge(movies, movie_tags, on='movieId', how='left')"
      ]
    },
    {
      "cell_type": "markdown",
      "metadata": {
        "id": "0NSl2OUVneLn"
      },
      "source": [
        "# Content Filtering method"
      ]
    },
    {
      "cell_type": "code",
      "execution_count": 9,
      "metadata": {
        "id": "Egpy_2J8QsZe"
      },
      "outputs": [],
      "source": [
        "tfidf_vectorizer = TfidfVectorizer(stop_words='english')\n",
        "tfidf_matrix = tfidf_vectorizer.fit_transform(movies['tag'].fillna(''))\n",
        "svd = TruncatedSVD(n_components=200)\n",
        "latent_matrix_1 = svd.fit_transform(tfidf_matrix)"
      ]
    },
    {
      "cell_type": "markdown",
      "metadata": {},
      "source": [
        "# Collaborative Filtering method"
      ]
    },
    {
      "cell_type": "code",
      "execution_count": 11,
      "metadata": {
        "id": "So6E1nfWQwMm"
      },
      "outputs": [],
      "source": [
        "# ratings_matrix = ratings.pivot_table(index='userId', columns='movieId', values='rating')\n",
        "# ratings_matrix = ratings_matrix.fillna(0)"
      ]
    },
    {
      "cell_type": "markdown",
      "metadata": {},
      "source": [
        "# Matrix Factorization using SVD"
      ]
    },
    {
      "cell_type": "code",
      "execution_count": 12,
      "metadata": {
        "colab": {
          "base_uri": "https://localhost:8080/"
        },
        "id": "3W4IKqttVlX_",
        "outputId": "d7f99605-1c7c-433c-a455-2114665b082b"
      },
      "outputs": [
        {
          "data": {
            "text/plain": [
              "<surprise.prediction_algorithms.matrix_factorization.SVD at 0x7d27f8eda4d0>"
            ]
          },
          "execution_count": 12,
          "metadata": {},
          "output_type": "execute_result"
        }
      ],
      "source": [
        "svd = SVD()\n",
        "reader = Reader()\n",
        "data = Dataset.load_from_df(ratings[['userId', 'movieId', 'rating']], reader)\n",
        "trainset = data.build_full_trainset()\n",
        "svd.fit(trainset)"
      ]
    },
    {
      "cell_type": "markdown",
      "metadata": {},
      "source": [
        "# Hybrid Model"
      ]
    },
    {
      "cell_type": "code",
      "execution_count": 21,
      "metadata": {
        "id": "P_xzjTaWVma-"
      },
      "outputs": [],
      "source": [
        "def hybrid_model(title):\n",
        "    # Build movie title to index mapping\n",
        "    indices = pd.Series(movies.index, index=movies['title']).drop_duplicates()\n",
        "    movie_id_map = dict(zip(movies['title'], movies.index))\n",
        "\n",
        "    idx = indices[title]\n",
        "    sim_scores = []\n",
        "    for i in range(len(indices)):\n",
        "        sim_score = cosine_similarity([latent_matrix_1[idx]], [latent_matrix_1[i]])[0][0]\n",
        "        sim_scores.append((i, sim_score))\n",
        "    sim_scores = sorted(sim_scores, key=lambda x: x[1], reverse=True)[1:101]\n",
        "    movie_indices = [i[0] for i in sim_scores]\n",
        "    movies_subset = movies.iloc[movie_indices]\n",
        "\n",
        "    # Content-based filtering\n",
        "    cb_score = []\n",
        "    for _, movie in movies_subset.iterrows():\n",
        "        movie_title = movie['title']\n",
        "        if movie_title in movie_id_map and movie_title in indices:\n",
        "            movie_idx_in_map = movie_id_map[movie_title]\n",
        "            movie_idx_in_indices = indices[movie_title]\n",
        "            cb_score.append(cosine_similarity([latent_matrix_1[idx]], [latent_matrix_1[movie_idx_in_map]])[0][0])\n",
        "        else:\n",
        "            cb_score.append(0)  # Assign a default score of 0 for missing titles\n",
        "\n",
        "    # Combine scores\n",
        "    hybrid_scores = cb_score\n",
        "    movie_indices = [i for i in range(len(movies_subset))]\n",
        "    recommendations = pd.DataFrame({'movieId': movie_indices, 'score': hybrid_scores})\n",
        "    recommendations = recommendations.sort_values(by='score', ascending=False)\n",
        "\n",
        "    return movies_subset.iloc[recommendations.head(10)['movieId']]"
      ]
    },
    {
      "cell_type": "markdown",
      "metadata": {},
      "source": [
        "# Build movie title to index mapping"
      ]
    },
    {
      "cell_type": "code",
      "execution_count": 16,
      "metadata": {
        "id": "X5UGx9aGVpRB"
      },
      "outputs": [],
      "source": [
        "indices = pd.Series(movies.index, index=movies['title']).drop_duplicates()\n",
        "movie_id_map = dict(zip(movies['title'], movies['movieId']))"
      ]
    },
    {
      "cell_type": "markdown",
      "metadata": {},
      "source": [
        "# Sample recommendation"
      ]
    },
    {
      "cell_type": "code",
      "execution_count": 22,
      "metadata": {
        "colab": {
          "base_uri": "https://localhost:8080/"
        },
        "id": "mFTLcNspVrVx",
        "outputId": "fb62cfe9-3d15-458e-80f4-9928391010e0"
      },
      "outputs": [
        {
          "name": "stdout",
          "output_type": "stream",
          "text": [
            "                         title  \\\n",
            "3027        Toy Story 2 (1999)   \n",
            "2270      Bug's Life, A (1998)   \n",
            "11614       Ratatouille (2007)   \n",
            "4790     Monsters, Inc. (2001)   \n",
            "5121            Ice Age (2002)   \n",
            "15401       Toy Story 3 (2010)   \n",
            "6271       Finding Nemo (2003)   \n",
            "8278   Incredibles, The (2004)   \n",
            "13767                Up (2009)   \n",
            "2209               Antz (1998)   \n",
            "\n",
            "                                                     tag  \n",
            "3027   animation humorous Pixar animation cute fancif...  \n",
            "2270   Watched computer animation Disney animated fea...  \n",
            "11614  Pixar's Formula Starting To Get Stale Watched ...  \n",
            "4790   Billy Crystal Jennifer Tilly John Goodman Pixa...  \n",
            "5121   Watched Carlos Saldanha Chris Wedge animated r...  \n",
            "15401  tense Alive toys adventure animation bitterswe...  \n",
            "6271   animation Watched Disney animated feature miss...  \n",
            "8278   animation powers Watched alter ego death/fatal...  \n",
            "13767  emotional friendship Watched Bechdel Test:Fail...  \n",
            "2209   Pixar animation Pixar anti-war capitalism dark...  \n"
          ]
        }
      ],
      "source": [
        "movie_title = 'Toy Story (1995)'  # Sample movie title\n",
        "recommended_movies = hybrid_model(movie_title)\n",
        "print(recommended_movies[['title', 'tag']])"
      ]
    }
  ],
  "metadata": {
    "accelerator": "GPU",
    "colab": {
      "gpuType": "T4",
      "provenance": []
    },
    "kernelspec": {
      "display_name": "testing",
      "language": "python",
      "name": "testing"
    },
    "language_info": {
      "codemirror_mode": {
        "name": "ipython",
        "version": 3
      },
      "file_extension": ".py",
      "mimetype": "text/x-python",
      "name": "python",
      "nbconvert_exporter": "python",
      "pygments_lexer": "ipython3",
      "version": "3.8.5"
    }
  },
  "nbformat": 4,
  "nbformat_minor": 0
}
